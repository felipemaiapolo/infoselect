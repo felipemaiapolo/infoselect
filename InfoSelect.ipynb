{
  "cells": [
    {
      "cell_type": "markdown",
      "metadata": {
        "id": "view-in-github",
        "colab_type": "text"
      },
      "source": [
        "<a href=\"https://colab.research.google.com/github/felipemaiapolo/infoselect/blob/master/InfoSelect.ipynb\" target=\"_parent\"><img src=\"https://colab.research.google.com/assets/colab-badge.svg\" alt=\"Open In Colab\"/></a>"
      ]
    },
    {
      "cell_type": "markdown",
      "metadata": {
        "id": "veqo_rjtmTKv"
      },
      "source": [
        "# ***InfoSelect*** - Mutual Information Based Feature Selection in Python\n",
        "\n",
        "\n",
        "\n",
        "\n",
        "### *Felipe Maia Polo (felipemaiapolo), Felipe Leno da Silva (f-leno)*\n"
      ]
    },
    {
      "cell_type": "markdown",
      "metadata": {
        "id": "08mvCZGw1pvk"
      },
      "source": [
        "## Contents\n",
        "1. [ Introduction ](#1)\n",
        "2. [ Installing *InfoSelect*  ](#2)\n",
        "3. [ Main functionalities of *InfoSelect* ](#3)\n",
        "4. [ Examples of *InfoSelect* use ](#4)\n",
        "5. [ References ](#5)\n",
        "\n",
        "--------------\n",
        "\n",
        "<a name=\"1\"></a>\n",
        "## 1\\. Introduction \n",
        "\n",
        "In this package we implement the ideas proposed by [1, 2] in order to make variable/feature selection prior to regression and classification tasks using Gaussian Mixture Models (GMMs) to estimate the Mutual Information between labels and features. This is an efficient and well-performing alternative and was used in a recent work [3] by one of us.\n",
        "\n",
        "If you use our package in your research, you can cite it as follows:\n",
        "\n",
        "    @article{maia2022effective,\n",
        "      title={Effective sample size, dimensionality, and generalization in covariate shift adaptation},\n",
        "      author={Maia Polo, Felipe and Vicente, Renato},\n",
        "      journal={Neural Computing and Applications},\n",
        "      pages={1--13},\n",
        "      year={2022},\n",
        "      publisher={Springer}\n",
        "    }\n",
        "\n",
        "\n",
        "    @misc{polo2020infoselect,\n",
        "      title={InfoSelect - Mutual Information Based Feature Selection in Python},\n",
        "      author={Polo, Felipe Maia and Da Silva, Felipe Leno},\n",
        "      journal={GitHub: github.com/felipemaiapolo/infoselect},\n",
        "      year={2020}\n",
        "    }\n",
        "\n",
        "\n",
        "--------------\n",
        "\n",
        "<a name=\"2\"></a>\n",
        "## 2\\. Installing *InfoSelect* \n",
        "\n",
        "You can install the package from\n",
        "[PyPI](https://pypi.org/project/infoselect/)"
      ]
    },
    {
      "cell_type": "code",
      "execution_count": null,
      "metadata": {
        "colab": {
          "base_uri": "https://localhost:8080/"
        },
        "id": "MFT2CLZomTK1",
        "outputId": "3eaf46df-3376-4c54-c13b-c70b61fe5ee8"
      },
      "outputs": [
        {
          "output_type": "stream",
          "name": "stdout",
          "text": [
            "Looking in indexes: https://pypi.org/simple, https://us-python.pkg.dev/colab-wheels/public/simple/\n",
            "Collecting infoselect\n",
            "  Downloading infoselect-1.0.2.tar.gz (10 kB)\n",
            "  Preparing metadata (setup.py) ... \u001b[?25l\u001b[?25hdone\n",
            "Requirement already satisfied: scipy in /usr/local/lib/python3.9/dist-packages (from infoselect) (1.10.1)\n",
            "Requirement already satisfied: numpy in /usr/local/lib/python3.9/dist-packages (from infoselect) (1.22.4)\n",
            "Requirement already satisfied: pandas in /usr/local/lib/python3.9/dist-packages (from infoselect) (1.4.4)\n",
            "Collecting sklearn\n",
            "  Downloading sklearn-0.0.post1.tar.gz (3.6 kB)\n",
            "  Preparing metadata (setup.py) ... \u001b[?25l\u001b[?25hdone\n",
            "Requirement already satisfied: matplotlib in /usr/local/lib/python3.9/dist-packages (from infoselect) (3.7.1)\n",
            "Requirement already satisfied: fonttools>=4.22.0 in /usr/local/lib/python3.9/dist-packages (from matplotlib->infoselect) (4.39.2)\n",
            "Requirement already satisfied: importlib-resources>=3.2.0 in /usr/local/lib/python3.9/dist-packages (from matplotlib->infoselect) (5.12.0)\n",
            "Requirement already satisfied: pyparsing>=2.3.1 in /usr/local/lib/python3.9/dist-packages (from matplotlib->infoselect) (3.0.9)\n",
            "Requirement already satisfied: contourpy>=1.0.1 in /usr/local/lib/python3.9/dist-packages (from matplotlib->infoselect) (1.0.7)\n",
            "Requirement already satisfied: kiwisolver>=1.0.1 in /usr/local/lib/python3.9/dist-packages (from matplotlib->infoselect) (1.4.4)\n",
            "Requirement already satisfied: cycler>=0.10 in /usr/local/lib/python3.9/dist-packages (from matplotlib->infoselect) (0.11.0)\n",
            "Requirement already satisfied: packaging>=20.0 in /usr/local/lib/python3.9/dist-packages (from matplotlib->infoselect) (23.0)\n",
            "Requirement already satisfied: pillow>=6.2.0 in /usr/local/lib/python3.9/dist-packages (from matplotlib->infoselect) (8.4.0)\n",
            "Requirement already satisfied: python-dateutil>=2.7 in /usr/local/lib/python3.9/dist-packages (from matplotlib->infoselect) (2.8.2)\n",
            "Requirement already satisfied: pytz>=2020.1 in /usr/local/lib/python3.9/dist-packages (from pandas->infoselect) (2022.7.1)\n",
            "Requirement already satisfied: zipp>=3.1.0 in /usr/local/lib/python3.9/dist-packages (from importlib-resources>=3.2.0->matplotlib->infoselect) (3.15.0)\n",
            "Requirement already satisfied: six>=1.5 in /usr/local/lib/python3.9/dist-packages (from python-dateutil>=2.7->matplotlib->infoselect) (1.16.0)\n",
            "Building wheels for collected packages: infoselect, sklearn\n",
            "  Building wheel for infoselect (setup.py) ... \u001b[?25l\u001b[?25hdone\n",
            "  Created wheel for infoselect: filename=infoselect-1.0.2-py3-none-any.whl size=11098 sha256=b7a85d21cbb2321bb7ef255ab35cf5cc658b54c1aa6246f2d77dfa10f86e35ff\n",
            "  Stored in directory: /root/.cache/pip/wheels/25/30/1d/12f3becf201de9376e624644d18123c6ba012a535162d7b26a\n",
            "  Building wheel for sklearn (setup.py) ... \u001b[?25l\u001b[?25hdone\n",
            "  Created wheel for sklearn: filename=sklearn-0.0.post1-py3-none-any.whl size=2955 sha256=8c6a08102d8ab38ed2ee23053cbcda0df2f0fbb0a0dc472ee3d9123189c65c68\n",
            "  Stored in directory: /root/.cache/pip/wheels/f8/e0/3d/9d0c2020c44a519b9f02ab4fa6d2a4a996c98d79ab2f569fa1\n",
            "Successfully built infoselect sklearn\n",
            "Installing collected packages: sklearn, infoselect\n",
            "Successfully installed infoselect-1.0.2 sklearn-0.0.post1\n"
          ]
        }
      ],
      "source": [
        "!pip install infoselect"
      ]
    },
    {
      "cell_type": "markdown",
      "metadata": {
        "id": "R0IgxOvs2VLp"
      },
      "source": [
        "<a name=\"3\"></a>\n",
        "## 3\\. Main functionalities of *InfoSelect* \n",
        "\n",
        "<a name=\"3.1\"></a>\n",
        "### 3.1\\. Main Class `SelectVars`\n",
        "\n",
        "This class is used to order features/variables according to their importance and making the selection itself. Next we detail its methods:\n",
        "\n",
        "1. `__init__(self, gmm, selection_mode = 'forward')`\n",
        "    - **gmm**: \n",
        "        - If <img src=\"https://render.githubusercontent.com/render/math?math=Y\"> is *non*-categorical: a [Scikit-Learn GMM](https://scikit-learn.org/stable/modules/generated/sklearn.mixture.GaussianMixture.html) fitted in (y,X) - y should always be in the first column;\n",
        "        - If <img src=\"https://render.githubusercontent.com/render/math?math=Y\"> is categorical: a Python dictionary containing one [Scikit-Learn GMM](https://scikit-learn.org/stable/modules/generated/sklearn.mixture.GaussianMixture.html) fitted in X conditional on each category - something like X[y==c,:]. Format `{0:gmm0, 1:gmm1, ..., C:gmmC}`;\n",
        "        - Please use auxiliary function `get_gmm` below if you want to use `covariance_type!='full`.\n",
        "    - **selection_mode**: `forward`/`backward` algorithms.\n",
        "        - `forward` selection: we start with an empty set of features and then select the feature that has the largest estimated mutual information with the target variable and. At each subsequent step, we select the feature that marginally maximizes the estimated mutual information of the target and all the chosen features so far. We stop when we have selected/ordered all the features;\n",
        "        - `backward` elimination: we start with the full set of features and then at each step, we eliminate the feature that marginally maximizes the estimated mutual information of the target and all the remaining features. We stop when we have no more features to eliminate;\n",
        "\n",
        "2. `fit(self, X, y, verbose=True, eps=0)`\n",
        "    - **X**: numpy array of features; \n",
        "    - **y**: numpy array of labels;\n",
        "    - **verbose**: print or not to print!?\n",
        "    - **eps**: small value so we can avoid taking log of zero in some cases .\n",
        "\n",
        "3. `get_info(self)`: \n",
        "    - This function creates and outputs a Pandas DataFrame with the history of feature selection/elimination. The `mi_mean` column gives the estimated Mutual Information while `mi_error` gives the standard error of that estimate. On the other hand, the `delta` column gives us the percentual information loss/gain in that round, relatively to the latter;\n",
        "    \n",
        "4. `plot_delta(self)`: \n",
        "    - This function plots the history of percentual changes in the mutual information.\n",
        "    \n",
        "5. `plot_mi(self)`: \n",
        "    - This function plots the history of the mutual information.\n",
        "    \n",
        "6. `transform(self, X, rd)`: \n",
        "    - This function takes **X** and transforms it in **X_new**, maintaining the features of Round `rd`; \n",
        " \n",
        "<a name=\"3.2\"></a>\n",
        "### 3.2\\. Auxiliary Function `get_gmm`\n",
        "\n",
        "1. `get_gmm(X, y, y_cat=False, num_comps=[2,5,10,15,20,30,40,50], val_size=0.33, reg_covar=1e-06, covariance_type=\"full\", random_state=42)`: \n",
        "\n",
        "    - Firstly, this function validate the number of GMM components, for each model it will train, in a holdout set using the mean log likelihood of samples in that set. If Y is non-categorical, it returns a [Scikit-Learn GMM](https://scikit-learn.org/stable/modules/generated/sklearn.mixture.GaussianMixture.html) fitted in (y,X) model (in this order). On the other hand, if Y is categorical it returns a Python dictionary containing one [Scikit-Learn GMM](https://scikit-learn.org/stable/modules/generated/sklearn.mixture.GaussianMixture.html) fitted in X conditional on each category - something like X[y==c,:]. Format `{0:gmm0, 1:gmm1, ..., C:gmmC}`.\n",
        "\n",
        "        - **X**: numpy array of features; \n",
        "        - **y**: numpy array of labels;\n",
        "        - **y_cat**: if we should consider Y as categorical;\n",
        "        - **num_comps**: numbers of GMM components to be validated;\n",
        "        - **val_size**: size of holdout set used to validate the GMMs numbers of components;\n",
        "        - **reg_covar**: non-negative regularization added to the diagonal of covariance. Ensures the covariance matrices are non-singular.\n",
        "        - **covariance_type**: one of the following options:'full','tied','diag','spherical'. See [Scikit-Learn GMM](https://scikit-learn.org/stable/modules/generated/sklearn.mixture.GaussianMixture.html)\n",
        "        - **random_state**: seed.\n",
        "\n",
        "--------------------\n",
        "\n",
        "<a name=\"4\"></a>\n",
        "## 4\\. Examples of *InfoSelect* use\n",
        "\n",
        "Loading Packages:"
      ]
    },
    {
      "cell_type": "code",
      "execution_count": null,
      "metadata": {
        "id": "EdhDRC3SmTLS"
      },
      "outputs": [],
      "source": [
        "import infoselect as inf\n",
        "import numpy as np  \n",
        "import pandas as pd\n",
        "import matplotlib.pyplot as plt"
      ]
    },
    {
      "cell_type": "markdown",
      "metadata": {
        "id": "YdeqfsuymTLX"
      },
      "source": [
        "### 1.1\\. Dataset\n",
        "\n",
        "We generate a dataset $D$ sampled from $\\mathcal{D}=\\{(X_{0,i},...,X_{6,i},Y_i)\\}_{i=1}^{n}$ similar to the one in [here](https://www.cs.toronto.edu/~delve/data/add10/desc.html), in which $Y_i$ is given by\n",
        "\n",
        "<br>\n",
        "\\begin{align}\n",
        "Y_i &= f(X_{0,i},...,X_{6,i}) + \\epsilon_i \\\\[.5em]\n",
        "&=10\\cdot \\sin(\\pi X_{0,i}  X_{1,i}) + 20 (X_{2,i}-0.5)^2 + 10 X_{3,i} + 5 X_{4,i} + \\epsilon_i\n",
        "\\end{align}\n",
        "<br>\n",
        "\n",
        "Where $X_{0,i},...,X_{6,i} \\overset{iid}{\\sim} U[0,1]$ and $\\epsilon_i \\sim N(0,1)$ independent from all the other random variables for all $i\\in [n]$. In the following we set $n=20000$:"
      ]
    },
    {
      "cell_type": "code",
      "execution_count": null,
      "metadata": {
        "id": "8Y4_HMDDmTLZ"
      },
      "outputs": [],
      "source": [
        "def f(X,e): return 10*np.sin(np.pi*X[:,0]*X[:,1]) + 20*(X[:,2]-.5)**2 + 10*X[:,3] + 5*X[:,4] + e"
      ]
    },
    {
      "cell_type": "code",
      "execution_count": null,
      "metadata": {
        "colab": {
          "base_uri": "https://localhost:8080/"
        },
        "id": "isQqEnhDmTLl",
        "outputId": "15bcd49f-0d80-4f00-d577-e9e42b3bb343"
      },
      "outputs": [
        {
          "output_type": "execute_result",
          "data": {
            "text/plain": [
              "((20000, 7), (20000,))"
            ]
          },
          "metadata": {},
          "execution_count": 4
        }
      ],
      "source": [
        "n=20000\n",
        "d=7\n",
        "\n",
        "X = np.random.uniform(0,1,d*n).reshape((n,d))\n",
        "e = np.random.normal(0,1,n)\n",
        "y = f(X,e)\n",
        "\n",
        "X.shape, y.shape"
      ]
    },
    {
      "cell_type": "markdown",
      "metadata": {
        "id": "Sgl9V_enmTL2"
      },
      "source": [
        "### 1.2\\. Selecting Features for a Regression Task"
      ]
    },
    {
      "cell_type": "markdown",
      "metadata": {
        "id": "J-KknWzDmTL4"
      },
      "source": [
        "Training (and validating) GMM:"
      ]
    },
    {
      "cell_type": "code",
      "execution_count": null,
      "metadata": {
        "colab": {
          "base_uri": "https://localhost:8080/"
        },
        "id": "KKg_aU1hmTL8",
        "outputId": "57d20473-c97b-4614-d8e7-1c3279958bf0"
      },
      "outputs": [
        {
          "output_type": "stream",
          "name": "stdout",
          "text": [
            "CPU times: user 29.7 s, sys: 35.4 s, total: 1min 5s\n",
            "Wall time: 56.6 s\n"
          ]
        }
      ],
      "source": [
        "%%time\n",
        "\n",
        "gmm = inf.get_gmm(X, y)"
      ]
    },
    {
      "cell_type": "code",
      "execution_count": null,
      "metadata": {
        "colab": {
          "base_uri": "https://localhost:8080/",
          "height": 75
        },
        "id": "FPtgps_emTMF",
        "outputId": "cda5ed15-f6da-41c6-bb29-ffc734e76160"
      },
      "outputs": [
        {
          "output_type": "execute_result",
          "data": {
            "text/plain": [
              "GaussianMixture(n_components=20, random_state=42)"
            ],
            "text/html": [
              "<style>#sk-container-id-1 {color: black;background-color: white;}#sk-container-id-1 pre{padding: 0;}#sk-container-id-1 div.sk-toggleable {background-color: white;}#sk-container-id-1 label.sk-toggleable__label {cursor: pointer;display: block;width: 100%;margin-bottom: 0;padding: 0.3em;box-sizing: border-box;text-align: center;}#sk-container-id-1 label.sk-toggleable__label-arrow:before {content: \"▸\";float: left;margin-right: 0.25em;color: #696969;}#sk-container-id-1 label.sk-toggleable__label-arrow:hover:before {color: black;}#sk-container-id-1 div.sk-estimator:hover label.sk-toggleable__label-arrow:before {color: black;}#sk-container-id-1 div.sk-toggleable__content {max-height: 0;max-width: 0;overflow: hidden;text-align: left;background-color: #f0f8ff;}#sk-container-id-1 div.sk-toggleable__content pre {margin: 0.2em;color: black;border-radius: 0.25em;background-color: #f0f8ff;}#sk-container-id-1 input.sk-toggleable__control:checked~div.sk-toggleable__content {max-height: 200px;max-width: 100%;overflow: auto;}#sk-container-id-1 input.sk-toggleable__control:checked~label.sk-toggleable__label-arrow:before {content: \"▾\";}#sk-container-id-1 div.sk-estimator input.sk-toggleable__control:checked~label.sk-toggleable__label {background-color: #d4ebff;}#sk-container-id-1 div.sk-label input.sk-toggleable__control:checked~label.sk-toggleable__label {background-color: #d4ebff;}#sk-container-id-1 input.sk-hidden--visually {border: 0;clip: rect(1px 1px 1px 1px);clip: rect(1px, 1px, 1px, 1px);height: 1px;margin: -1px;overflow: hidden;padding: 0;position: absolute;width: 1px;}#sk-container-id-1 div.sk-estimator {font-family: monospace;background-color: #f0f8ff;border: 1px dotted black;border-radius: 0.25em;box-sizing: border-box;margin-bottom: 0.5em;}#sk-container-id-1 div.sk-estimator:hover {background-color: #d4ebff;}#sk-container-id-1 div.sk-parallel-item::after {content: \"\";width: 100%;border-bottom: 1px solid gray;flex-grow: 1;}#sk-container-id-1 div.sk-label:hover label.sk-toggleable__label {background-color: #d4ebff;}#sk-container-id-1 div.sk-serial::before {content: \"\";position: absolute;border-left: 1px solid gray;box-sizing: border-box;top: 0;bottom: 0;left: 50%;z-index: 0;}#sk-container-id-1 div.sk-serial {display: flex;flex-direction: column;align-items: center;background-color: white;padding-right: 0.2em;padding-left: 0.2em;position: relative;}#sk-container-id-1 div.sk-item {position: relative;z-index: 1;}#sk-container-id-1 div.sk-parallel {display: flex;align-items: stretch;justify-content: center;background-color: white;position: relative;}#sk-container-id-1 div.sk-item::before, #sk-container-id-1 div.sk-parallel-item::before {content: \"\";position: absolute;border-left: 1px solid gray;box-sizing: border-box;top: 0;bottom: 0;left: 50%;z-index: -1;}#sk-container-id-1 div.sk-parallel-item {display: flex;flex-direction: column;z-index: 1;position: relative;background-color: white;}#sk-container-id-1 div.sk-parallel-item:first-child::after {align-self: flex-end;width: 50%;}#sk-container-id-1 div.sk-parallel-item:last-child::after {align-self: flex-start;width: 50%;}#sk-container-id-1 div.sk-parallel-item:only-child::after {width: 0;}#sk-container-id-1 div.sk-dashed-wrapped {border: 1px dashed gray;margin: 0 0.4em 0.5em 0.4em;box-sizing: border-box;padding-bottom: 0.4em;background-color: white;}#sk-container-id-1 div.sk-label label {font-family: monospace;font-weight: bold;display: inline-block;line-height: 1.2em;}#sk-container-id-1 div.sk-label-container {text-align: center;}#sk-container-id-1 div.sk-container {/* jupyter's `normalize.less` sets `[hidden] { display: none; }` but bootstrap.min.css set `[hidden] { display: none !important; }` so we also need the `!important` here to be able to override the default hidden behavior on the sphinx rendered scikit-learn.org. See: https://github.com/scikit-learn/scikit-learn/issues/21755 */display: inline-block !important;position: relative;}#sk-container-id-1 div.sk-text-repr-fallback {display: none;}</style><div id=\"sk-container-id-1\" class=\"sk-top-container\"><div class=\"sk-text-repr-fallback\"><pre>GaussianMixture(n_components=20, random_state=42)</pre><b>In a Jupyter environment, please rerun this cell to show the HTML representation or trust the notebook. <br />On GitHub, the HTML representation is unable to render, please try loading this page with nbviewer.org.</b></div><div class=\"sk-container\" hidden><div class=\"sk-item\"><div class=\"sk-estimator sk-toggleable\"><input class=\"sk-toggleable__control sk-hidden--visually\" id=\"sk-estimator-id-1\" type=\"checkbox\" checked><label for=\"sk-estimator-id-1\" class=\"sk-toggleable__label sk-toggleable__label-arrow\">GaussianMixture</label><div class=\"sk-toggleable__content\"><pre>GaussianMixture(n_components=20, random_state=42)</pre></div></div></div></div></div>"
            ]
          },
          "metadata": {},
          "execution_count": 6
        }
      ],
      "source": [
        "gmm"
      ]
    },
    {
      "cell_type": "markdown",
      "metadata": {
        "id": "K0gL-DJ-mTMO"
      },
      "source": [
        "Ordering features by their importances using the *Backward Elimination* algorithm:"
      ]
    },
    {
      "cell_type": "code",
      "execution_count": null,
      "metadata": {
        "colab": {
          "base_uri": "https://localhost:8080/"
        },
        "id": "F7Gy-vgWmTMR",
        "outputId": "900ab38f-b277-432b-9818-4c995e5e2921"
      },
      "outputs": [
        {
          "output_type": "stream",
          "name": "stdout",
          "text": [
            "Let's start...\n",
            "\n",
            "Round =   0   |   Î =  1.49   |   Δ%Î =  0.00   |   Features=[0, 1, 2, 3, 4, 5, 6]\n",
            "Round =   1   |   Î =  1.49   |   Δ%Î = -0.00   |   Features=[0, 1, 2, 3, 4, 6]\n",
            "Round =   2   |   Î =  1.49   |   Δ%Î = -0.00   |   Features=[0, 1, 2, 3, 4]\n",
            "Round =   3   |   Î =  1.02   |   Δ%Î = -0.32   |   Features=[0, 1, 3, 4]\n",
            "Round =   4   |   Î =  0.76   |   Δ%Î = -0.25   |   Features=[0, 1, 3]\n",
            "Round =   5   |   Î =  0.40   |   Δ%Î = -0.48   |   Features=[0, 3]\n",
            "Round =   6   |   Î =  0.22   |   Δ%Î = -0.45   |   Features=[3]\n"
          ]
        }
      ],
      "source": [
        "select = inf.SelectVars(gmm, selection_mode = 'backward')\n",
        "select.fit(X, y, verbose=True)    "
      ]
    },
    {
      "cell_type": "markdown",
      "metadata": {
        "id": "px7utZtNmTMW"
      },
      "source": [
        "Checking history:"
      ]
    },
    {
      "cell_type": "code",
      "execution_count": null,
      "metadata": {
        "colab": {
          "base_uri": "https://localhost:8080/",
          "height": 269
        },
        "id": "UgTyazIDmTMX",
        "outputId": "11362353-5179-4c31-88e1-0bcad867199b"
      },
      "outputs": [
        {
          "output_type": "execute_result",
          "data": {
            "text/plain": [
              "   rounds   mi_mean  mi_error     delta  num_feat               features\n",
              "0       0  1.493517  0.006161  0.000000         7  [0, 1, 2, 3, 4, 5, 6]\n",
              "1       1  1.492046  0.006155 -0.000985         6     [0, 1, 2, 3, 4, 6]\n",
              "2       2  1.490563  0.006151 -0.000994         5        [0, 1, 2, 3, 4]\n",
              "3       3  1.019008  0.005728 -0.316360         4           [0, 1, 3, 4]\n",
              "4       4  0.761231  0.005409 -0.252968         3              [0, 1, 3]\n",
              "5       5  0.398240  0.005075 -0.476848         2                 [0, 3]\n",
              "6       6  0.217122  0.003859 -0.454796         1                    [3]"
            ],
            "text/html": [
              "\n",
              "  <div id=\"df-3013ee96-484a-447f-9919-fe5c9d6900e9\">\n",
              "    <div class=\"colab-df-container\">\n",
              "      <div>\n",
              "<style scoped>\n",
              "    .dataframe tbody tr th:only-of-type {\n",
              "        vertical-align: middle;\n",
              "    }\n",
              "\n",
              "    .dataframe tbody tr th {\n",
              "        vertical-align: top;\n",
              "    }\n",
              "\n",
              "    .dataframe thead th {\n",
              "        text-align: right;\n",
              "    }\n",
              "</style>\n",
              "<table border=\"1\" class=\"dataframe\">\n",
              "  <thead>\n",
              "    <tr style=\"text-align: right;\">\n",
              "      <th></th>\n",
              "      <th>rounds</th>\n",
              "      <th>mi_mean</th>\n",
              "      <th>mi_error</th>\n",
              "      <th>delta</th>\n",
              "      <th>num_feat</th>\n",
              "      <th>features</th>\n",
              "    </tr>\n",
              "  </thead>\n",
              "  <tbody>\n",
              "    <tr>\n",
              "      <th>0</th>\n",
              "      <td>0</td>\n",
              "      <td>1.493517</td>\n",
              "      <td>0.006161</td>\n",
              "      <td>0.000000</td>\n",
              "      <td>7</td>\n",
              "      <td>[0, 1, 2, 3, 4, 5, 6]</td>\n",
              "    </tr>\n",
              "    <tr>\n",
              "      <th>1</th>\n",
              "      <td>1</td>\n",
              "      <td>1.492046</td>\n",
              "      <td>0.006155</td>\n",
              "      <td>-0.000985</td>\n",
              "      <td>6</td>\n",
              "      <td>[0, 1, 2, 3, 4, 6]</td>\n",
              "    </tr>\n",
              "    <tr>\n",
              "      <th>2</th>\n",
              "      <td>2</td>\n",
              "      <td>1.490563</td>\n",
              "      <td>0.006151</td>\n",
              "      <td>-0.000994</td>\n",
              "      <td>5</td>\n",
              "      <td>[0, 1, 2, 3, 4]</td>\n",
              "    </tr>\n",
              "    <tr>\n",
              "      <th>3</th>\n",
              "      <td>3</td>\n",
              "      <td>1.019008</td>\n",
              "      <td>0.005728</td>\n",
              "      <td>-0.316360</td>\n",
              "      <td>4</td>\n",
              "      <td>[0, 1, 3, 4]</td>\n",
              "    </tr>\n",
              "    <tr>\n",
              "      <th>4</th>\n",
              "      <td>4</td>\n",
              "      <td>0.761231</td>\n",
              "      <td>0.005409</td>\n",
              "      <td>-0.252968</td>\n",
              "      <td>3</td>\n",
              "      <td>[0, 1, 3]</td>\n",
              "    </tr>\n",
              "    <tr>\n",
              "      <th>5</th>\n",
              "      <td>5</td>\n",
              "      <td>0.398240</td>\n",
              "      <td>0.005075</td>\n",
              "      <td>-0.476848</td>\n",
              "      <td>2</td>\n",
              "      <td>[0, 3]</td>\n",
              "    </tr>\n",
              "    <tr>\n",
              "      <th>6</th>\n",
              "      <td>6</td>\n",
              "      <td>0.217122</td>\n",
              "      <td>0.003859</td>\n",
              "      <td>-0.454796</td>\n",
              "      <td>1</td>\n",
              "      <td>[3]</td>\n",
              "    </tr>\n",
              "  </tbody>\n",
              "</table>\n",
              "</div>\n",
              "      <button class=\"colab-df-convert\" onclick=\"convertToInteractive('df-3013ee96-484a-447f-9919-fe5c9d6900e9')\"\n",
              "              title=\"Convert this dataframe to an interactive table.\"\n",
              "              style=\"display:none;\">\n",
              "        \n",
              "  <svg xmlns=\"http://www.w3.org/2000/svg\" height=\"24px\"viewBox=\"0 0 24 24\"\n",
              "       width=\"24px\">\n",
              "    <path d=\"M0 0h24v24H0V0z\" fill=\"none\"/>\n",
              "    <path d=\"M18.56 5.44l.94 2.06.94-2.06 2.06-.94-2.06-.94-.94-2.06-.94 2.06-2.06.94zm-11 1L8.5 8.5l.94-2.06 2.06-.94-2.06-.94L8.5 2.5l-.94 2.06-2.06.94zm10 10l.94 2.06.94-2.06 2.06-.94-2.06-.94-.94-2.06-.94 2.06-2.06.94z\"/><path d=\"M17.41 7.96l-1.37-1.37c-.4-.4-.92-.59-1.43-.59-.52 0-1.04.2-1.43.59L10.3 9.45l-7.72 7.72c-.78.78-.78 2.05 0 2.83L4 21.41c.39.39.9.59 1.41.59.51 0 1.02-.2 1.41-.59l7.78-7.78 2.81-2.81c.8-.78.8-2.07 0-2.86zM5.41 20L4 18.59l7.72-7.72 1.47 1.35L5.41 20z\"/>\n",
              "  </svg>\n",
              "      </button>\n",
              "      \n",
              "  <style>\n",
              "    .colab-df-container {\n",
              "      display:flex;\n",
              "      flex-wrap:wrap;\n",
              "      gap: 12px;\n",
              "    }\n",
              "\n",
              "    .colab-df-convert {\n",
              "      background-color: #E8F0FE;\n",
              "      border: none;\n",
              "      border-radius: 50%;\n",
              "      cursor: pointer;\n",
              "      display: none;\n",
              "      fill: #1967D2;\n",
              "      height: 32px;\n",
              "      padding: 0 0 0 0;\n",
              "      width: 32px;\n",
              "    }\n",
              "\n",
              "    .colab-df-convert:hover {\n",
              "      background-color: #E2EBFA;\n",
              "      box-shadow: 0px 1px 2px rgba(60, 64, 67, 0.3), 0px 1px 3px 1px rgba(60, 64, 67, 0.15);\n",
              "      fill: #174EA6;\n",
              "    }\n",
              "\n",
              "    [theme=dark] .colab-df-convert {\n",
              "      background-color: #3B4455;\n",
              "      fill: #D2E3FC;\n",
              "    }\n",
              "\n",
              "    [theme=dark] .colab-df-convert:hover {\n",
              "      background-color: #434B5C;\n",
              "      box-shadow: 0px 1px 3px 1px rgba(0, 0, 0, 0.15);\n",
              "      filter: drop-shadow(0px 1px 2px rgba(0, 0, 0, 0.3));\n",
              "      fill: #FFFFFF;\n",
              "    }\n",
              "  </style>\n",
              "\n",
              "      <script>\n",
              "        const buttonEl =\n",
              "          document.querySelector('#df-3013ee96-484a-447f-9919-fe5c9d6900e9 button.colab-df-convert');\n",
              "        buttonEl.style.display =\n",
              "          google.colab.kernel.accessAllowed ? 'block' : 'none';\n",
              "\n",
              "        async function convertToInteractive(key) {\n",
              "          const element = document.querySelector('#df-3013ee96-484a-447f-9919-fe5c9d6900e9');\n",
              "          const dataTable =\n",
              "            await google.colab.kernel.invokeFunction('convertToInteractive',\n",
              "                                                     [key], {});\n",
              "          if (!dataTable) return;\n",
              "\n",
              "          const docLinkHtml = 'Like what you see? Visit the ' +\n",
              "            '<a target=\"_blank\" href=https://colab.research.google.com/notebooks/data_table.ipynb>data table notebook</a>'\n",
              "            + ' to learn more about interactive tables.';\n",
              "          element.innerHTML = '';\n",
              "          dataTable['output_type'] = 'display_data';\n",
              "          await google.colab.output.renderOutput(dataTable, element);\n",
              "          const docLink = document.createElement('div');\n",
              "          docLink.innerHTML = docLinkHtml;\n",
              "          element.appendChild(docLink);\n",
              "        }\n",
              "      </script>\n",
              "    </div>\n",
              "  </div>\n",
              "  "
            ]
          },
          "metadata": {},
          "execution_count": 8
        }
      ],
      "source": [
        "select.get_info()"
      ]
    },
    {
      "cell_type": "markdown",
      "metadata": {
        "id": "CtsYNrEsmTMc"
      },
      "source": [
        "It is possible to see that the estimated mutual information is untouched until Round 2, when it varies around -$30\\%$.\n",
        "\n",
        "Since there is a 'break' in Round 2, we should choose to stop the algorithm at theta round. This will be clear in the Mutual Information history plot that follows:"
      ]
    },
    {
      "cell_type": "code",
      "execution_count": null,
      "metadata": {
        "colab": {
          "base_uri": "https://localhost:8080/",
          "height": 279
        },
        "id": "5G8kBvEvmTMd",
        "outputId": "344cebca-b9fe-4ac7-8b77-522150c7f9c5"
      },
      "outputs": [
        {
          "output_type": "display_data",
          "data": {
            "text/plain": [
              "<Figure size 432x288 with 1 Axes>"
            ],
            "image/png": "[encoded data removed]"
          },
          "metadata": {
            "needs_background": "light"
          }
        }
      ],
      "source": [
        "select.plot_mi()"
      ]
    },
    {
      "cell_type": "markdown",
      "metadata": {
        "id": "uYZoCp1vmTMh"
      },
      "source": [
        "Plotting the percentual variations of the mutual information between rounds:"
      ]
    },
    {
      "cell_type": "code",
      "execution_count": null,
      "metadata": {
        "colab": {
          "base_uri": "https://localhost:8080/",
          "height": 279
        },
        "id": "BBV2ciMkmTMh",
        "outputId": "4e67f188-58f3-4986-b105-2745a158a069"
      },
      "outputs": [
        {
          "output_type": "display_data",
          "data": {
            "text/plain": [
              "<Figure size 432x288 with 1 Axes>"
            ],
            "image/png": "[encoded data removed]"
          },
          "metadata": {
            "needs_background": "light"
          }
        }
      ],
      "source": [
        "select.plot_delta()"
      ]
    },
    {
      "cell_type": "markdown",
      "metadata": {
        "id": "5QAhk35EmTMo"
      },
      "source": [
        "Making the selection choosing to stop at Round 2:"
      ]
    },
    {
      "cell_type": "code",
      "execution_count": null,
      "metadata": {
        "colab": {
          "base_uri": "https://localhost:8080/"
        },
        "id": "u6qtvG8vmTMp",
        "outputId": "2c74e241-6a15-4977-bac2-7ef47cab7e18"
      },
      "outputs": [
        {
          "output_type": "execute_result",
          "data": {
            "text/plain": [
              "(20000, 5)"
            ]
          },
          "metadata": {},
          "execution_count": 11
        }
      ],
      "source": [
        "X_new = select.transform(X, rd=2)\n",
        "\n",
        "X_new.shape"
      ]
    },
    {
      "cell_type": "markdown",
      "metadata": {
        "id": "OzXhfro9mTMx"
      },
      "source": [
        "### 1.3\\. Selecting Features for a Classification Task"
      ]
    },
    {
      "cell_type": "markdown",
      "metadata": {
        "id": "Upuhc2UqmTMy"
      },
      "source": [
        "Categorizing $Y$:"
      ]
    },
    {
      "cell_type": "code",
      "execution_count": null,
      "metadata": {
        "id": "wDOrI5yRmTMz"
      },
      "outputs": [],
      "source": [
        "ind0 = (y<np.percentile(y, 33))\n",
        "ind1 = (np.percentile(y, 33)<=y) & (y<np.percentile(y, 66))\n",
        "ind2 = (np.percentile(y, 66)<=y)\n",
        "\n",
        "y[ind0] = 0\n",
        "y[ind1] = 1\n",
        "y[ind2] = 2\n",
        "\n",
        "y=y.astype(int)"
      ]
    },
    {
      "cell_type": "code",
      "execution_count": null,
      "metadata": {
        "colab": {
          "base_uri": "https://localhost:8080/"
        },
        "id": "Q4KwwGacmTNB",
        "outputId": "bb2eca21-8742-4ee8-919a-c9422ec31415"
      },
      "outputs": [
        {
          "output_type": "execute_result",
          "data": {
            "text/plain": [
              "array([2, 2, 2, 0, 2, 2, 1, 2, 0, 1, 1, 0, 1, 2, 0])"
            ]
          },
          "metadata": {},
          "execution_count": 13
        }
      ],
      "source": [
        "y[:15]"
      ]
    },
    {
      "cell_type": "markdown",
      "metadata": {
        "id": "lS_CeqJWmTNR"
      },
      "source": [
        "Training (and validating) GMMs:"
      ]
    },
    {
      "cell_type": "code",
      "execution_count": null,
      "metadata": {
        "colab": {
          "base_uri": "https://localhost:8080/"
        },
        "id": "-jEKEp9MmTNW",
        "outputId": "1a2ba1e2-062d-4338-da42-7471fbe058df"
      },
      "outputs": [
        {
          "output_type": "stream",
          "name": "stdout",
          "text": [
            "CPU times: user 20 s, sys: 25 s, total: 45.1 s\n",
            "Wall time: 26.3 s\n"
          ]
        }
      ],
      "source": [
        "%%time \n",
        "\n",
        "gmm=inf.get_gmm(X, y, y_cat=True)"
      ]
    },
    {
      "cell_type": "code",
      "execution_count": null,
      "metadata": {
        "colab": {
          "base_uri": "https://localhost:8080/"
        },
        "id": "xOH-T6GN3Cfl",
        "outputId": "0330c873-3aed-4661-d051-cd95c178c29b"
      },
      "outputs": [
        {
          "data": {
            "text/plain": [
              "{0: GaussianMixture(n_components=15, random_state=42),\n",
              " 1: GaussianMixture(n_components=20, random_state=42),\n",
              " 2: GaussianMixture(n_components=20, random_state=42)}"
            ]
          },
          "execution_count": 15,
          "metadata": {},
          "output_type": "execute_result"
        }
      ],
      "source": [
        "gmm"
      ]
    },
    {
      "cell_type": "markdown",
      "metadata": {
        "id": "IOTbJgRUmTNn"
      },
      "source": [
        "Ordering features by their importances using the *Forward Selection* algorithm:"
      ]
    },
    {
      "cell_type": "code",
      "execution_count": null,
      "metadata": {
        "colab": {
          "base_uri": "https://localhost:8080/"
        },
        "id": "jKejnlHKmTNp",
        "outputId": "8d5dccb1-5a64-4447-9fa1-6429103b1aae"
      },
      "outputs": [
        {
          "output_type": "stream",
          "name": "stdout",
          "text": [
            "Let's start...\n",
            "\n",
            "Round =   0   |   Î =  0.00   |   Δ%Î =  0.00   |   Features=[]\n",
            "Round =   1   |   Î =  0.15   |   Δ%Î =  0.00   |   Features=[3]\n",
            "Round =   2   |   Î =  0.29   |   Δ%Î =  0.92   |   Features=[3, 0]\n",
            "Round =   3   |   Î =  0.53   |   Δ%Î =  0.84   |   Features=[3, 0, 1]\n",
            "Round =   4   |   Î =  0.64   |   Δ%Î =  0.22   |   Features=[3, 0, 1, 4]\n",
            "Round =   5   |   Î =  0.80   |   Δ%Î =  0.24   |   Features=[3, 0, 1, 4, 2]\n",
            "Round =   6   |   Î =  0.80   |   Δ%Î = -0.00   |   Features=[3, 0, 1, 4, 2, 5]\n",
            "Round =   7   |   Î =  0.80   |   Δ%Î = -0.00   |   Features=[3, 0, 1, 4, 2, 5, 6]\n"
          ]
        }
      ],
      "source": [
        "select=inf.SelectVars(gmm, selection_mode='forward')\n",
        "select.fit(X, y, verbose=True)    "
      ]
    },
    {
      "cell_type": "markdown",
      "metadata": {
        "id": "ItemarzLmTN0"
      },
      "source": [
        "Checking history:"
      ]
    },
    {
      "cell_type": "code",
      "execution_count": null,
      "metadata": {
        "colab": {
          "base_uri": "https://localhost:8080/",
          "height": 300
        },
        "id": "qtuDjVbemTN0",
        "outputId": "0e8d98fb-5d80-4dd5-e15e-3c979179688b"
      },
      "outputs": [
        {
          "output_type": "execute_result",
          "data": {
            "text/plain": [
              "   rounds   mi_mean  mi_error     delta  num_feat               features\n",
              "0       0  0.000000  0.000000  0.000000         0                     []\n",
              "1       1  0.149416  0.003683  0.000000         1                    [3]\n",
              "2       2  0.287263  0.004519  0.922574         2                 [3, 0]\n",
              "3       3  0.529389  0.004487  0.842871         3              [3, 0, 1]\n",
              "4       4  0.643655  0.004204  0.215846         4           [3, 0, 1, 4]\n",
              "5       5  0.800564  0.003351  0.243778         5        [3, 0, 1, 4, 2]\n",
              "6       6  0.800543  0.003454 -0.000027         6     [3, 0, 1, 4, 2, 5]\n",
              "7       7  0.798431  0.003599 -0.002637         7  [3, 0, 1, 4, 2, 5, 6]"
            ],
            "text/html": [
              "\n",
              "  <div id=\"df-28a59ef1-dc8f-4758-8d6c-aa934804ff54\">\n",
              "    <div class=\"colab-df-container\">\n",
              "      <div>\n",
              "<style scoped>\n",
              "    .dataframe tbody tr th:only-of-type {\n",
              "        vertical-align: middle;\n",
              "    }\n",
              "\n",
              "    .dataframe tbody tr th {\n",
              "        vertical-align: top;\n",
              "    }\n",
              "\n",
              "    .dataframe thead th {\n",
              "        text-align: right;\n",
              "    }\n",
              "</style>\n",
              "<table border=\"1\" class=\"dataframe\">\n",
              "  <thead>\n",
              "    <tr style=\"text-align: right;\">\n",
              "      <th></th>\n",
              "      <th>rounds</th>\n",
              "      <th>mi_mean</th>\n",
              "      <th>mi_error</th>\n",
              "      <th>delta</th>\n",
              "      <th>num_feat</th>\n",
              "      <th>features</th>\n",
              "    </tr>\n",
              "  </thead>\n",
              "  <tbody>\n",
              "    <tr>\n",
              "      <th>0</th>\n",
              "      <td>0</td>\n",
              "      <td>0.000000</td>\n",
              "      <td>0.000000</td>\n",
              "      <td>0.000000</td>\n",
              "      <td>0</td>\n",
              "      <td>[]</td>\n",
              "    </tr>\n",
              "    <tr>\n",
              "      <th>1</th>\n",
              "      <td>1</td>\n",
              "      <td>0.149416</td>\n",
              "      <td>0.003683</td>\n",
              "      <td>0.000000</td>\n",
              "      <td>1</td>\n",
              "      <td>[3]</td>\n",
              "    </tr>\n",
              "    <tr>\n",
              "      <th>2</th>\n",
              "      <td>2</td>\n",
              "      <td>0.287263</td>\n",
              "      <td>0.004519</td>\n",
              "      <td>0.922574</td>\n",
              "      <td>2</td>\n",
              "      <td>[3, 0]</td>\n",
              "    </tr>\n",
              "    <tr>\n",
              "      <th>3</th>\n",
              "      <td>3</td>\n",
              "      <td>0.529389</td>\n",
              "      <td>0.004487</td>\n",
              "      <td>0.842871</td>\n",
              "      <td>3</td>\n",
              "      <td>[3, 0, 1]</td>\n",
              "    </tr>\n",
              "    <tr>\n",
              "      <th>4</th>\n",
              "      <td>4</td>\n",
              "      <td>0.643655</td>\n",
              "      <td>0.004204</td>\n",
              "      <td>0.215846</td>\n",
              "      <td>4</td>\n",
              "      <td>[3, 0, 1, 4]</td>\n",
              "    </tr>\n",
              "    <tr>\n",
              "      <th>5</th>\n",
              "      <td>5</td>\n",
              "      <td>0.800564</td>\n",
              "      <td>0.003351</td>\n",
              "      <td>0.243778</td>\n",
              "      <td>5</td>\n",
              "      <td>[3, 0, 1, 4, 2]</td>\n",
              "    </tr>\n",
              "    <tr>\n",
              "      <th>6</th>\n",
              "      <td>6</td>\n",
              "      <td>0.800543</td>\n",
              "      <td>0.003454</td>\n",
              "      <td>-0.000027</td>\n",
              "      <td>6</td>\n",
              "      <td>[3, 0, 1, 4, 2, 5]</td>\n",
              "    </tr>\n",
              "    <tr>\n",
              "      <th>7</th>\n",
              "      <td>7</td>\n",
              "      <td>0.798431</td>\n",
              "      <td>0.003599</td>\n",
              "      <td>-0.002637</td>\n",
              "      <td>7</td>\n",
              "      <td>[3, 0, 1, 4, 2, 5, 6]</td>\n",
              "    </tr>\n",
              "  </tbody>\n",
              "</table>\n",
              "</div>\n",
              "      <button class=\"colab-df-convert\" onclick=\"convertToInteractive('df-28a59ef1-dc8f-4758-8d6c-aa934804ff54')\"\n",
              "              title=\"Convert this dataframe to an interactive table.\"\n",
              "              style=\"display:none;\">\n",
              "        \n",
              "  <svg xmlns=\"http://www.w3.org/2000/svg\" height=\"24px\"viewBox=\"0 0 24 24\"\n",
              "       width=\"24px\">\n",
              "    <path d=\"M0 0h24v24H0V0z\" fill=\"none\"/>\n",
              "    <path d=\"M18.56 5.44l.94 2.06.94-2.06 2.06-.94-2.06-.94-.94-2.06-.94 2.06-2.06.94zm-11 1L8.5 8.5l.94-2.06 2.06-.94-2.06-.94L8.5 2.5l-.94 2.06-2.06.94zm10 10l.94 2.06.94-2.06 2.06-.94-2.06-.94-.94-2.06-.94 2.06-2.06.94z\"/><path d=\"M17.41 7.96l-1.37-1.37c-.4-.4-.92-.59-1.43-.59-.52 0-1.04.2-1.43.59L10.3 9.45l-7.72 7.72c-.78.78-.78 2.05 0 2.83L4 21.41c.39.39.9.59 1.41.59.51 0 1.02-.2 1.41-.59l7.78-7.78 2.81-2.81c.8-.78.8-2.07 0-2.86zM5.41 20L4 18.59l7.72-7.72 1.47 1.35L5.41 20z\"/>\n",
              "  </svg>\n",
              "      </button>\n",
              "      \n",
              "  <style>\n",
              "    .colab-df-container {\n",
              "      display:flex;\n",
              "      flex-wrap:wrap;\n",
              "      gap: 12px;\n",
              "    }\n",
              "\n",
              "    .colab-df-convert {\n",
              "      background-color: #E8F0FE;\n",
              "      border: none;\n",
              "      border-radius: 50%;\n",
              "      cursor: pointer;\n",
              "      display: none;\n",
              "      fill: #1967D2;\n",
              "      height: 32px;\n",
              "      padding: 0 0 0 0;\n",
              "      width: 32px;\n",
              "    }\n",
              "\n",
              "    .colab-df-convert:hover {\n",
              "      background-color: #E2EBFA;\n",
              "      box-shadow: 0px 1px 2px rgba(60, 64, 67, 0.3), 0px 1px 3px 1px rgba(60, 64, 67, 0.15);\n",
              "      fill: #174EA6;\n",
              "    }\n",
              "\n",
              "    [theme=dark] .colab-df-convert {\n",
              "      background-color: #3B4455;\n",
              "      fill: #D2E3FC;\n",
              "    }\n",
              "\n",
              "    [theme=dark] .colab-df-convert:hover {\n",
              "      background-color: #434B5C;\n",
              "      box-shadow: 0px 1px 3px 1px rgba(0, 0, 0, 0.15);\n",
              "      filter: drop-shadow(0px 1px 2px rgba(0, 0, 0, 0.3));\n",
              "      fill: #FFFFFF;\n",
              "    }\n",
              "  </style>\n",
              "\n",
              "      <script>\n",
              "        const buttonEl =\n",
              "          document.querySelector('#df-28a59ef1-dc8f-4758-8d6c-aa934804ff54 button.colab-df-convert');\n",
              "        buttonEl.style.display =\n",
              "          google.colab.kernel.accessAllowed ? 'block' : 'none';\n",
              "\n",
              "        async function convertToInteractive(key) {\n",
              "          const element = document.querySelector('#df-28a59ef1-dc8f-4758-8d6c-aa934804ff54');\n",
              "          const dataTable =\n",
              "            await google.colab.kernel.invokeFunction('convertToInteractive',\n",
              "                                                     [key], {});\n",
              "          if (!dataTable) return;\n",
              "\n",
              "          const docLinkHtml = 'Like what you see? Visit the ' +\n",
              "            '<a target=\"_blank\" href=https://colab.research.google.com/notebooks/data_table.ipynb>data table notebook</a>'\n",
              "            + ' to learn more about interactive tables.';\n",
              "          element.innerHTML = '';\n",
              "          dataTable['output_type'] = 'display_data';\n",
              "          await google.colab.output.renderOutput(dataTable, element);\n",
              "          const docLink = document.createElement('div');\n",
              "          docLink.innerHTML = docLinkHtml;\n",
              "          element.appendChild(docLink);\n",
              "        }\n",
              "      </script>\n",
              "    </div>\n",
              "  </div>\n",
              "  "
            ]
          },
          "metadata": {},
          "execution_count": 17
        }
      ],
      "source": [
        "select.get_info()"
      ]
    },
    {
      "cell_type": "markdown",
      "metadata": {
        "id": "wFTKMAtJmTN4"
      },
      "source": [
        "It is possible to see that the estimated mutual information is untouched from Round 6 onwards.\n",
        "\n",
        "Since there is a 'break' in Round 5, we should choose to stop the algorithm at theta round. This will be clear in the Mutual Information history plot that follows:"
      ]
    },
    {
      "cell_type": "code",
      "execution_count": null,
      "metadata": {
        "colab": {
          "base_uri": "https://localhost:8080/",
          "height": 279
        },
        "id": "SX0Le6YMmTN6",
        "outputId": "c895a0fe-91f9-4943-c433-b1cb0d496f7f"
      },
      "outputs": [
        {
          "output_type": "display_data",
          "data": {
            "text/plain": [
              "<Figure size 432x288 with 1 Axes>"
            ],
            "image/png": "[encoded data removed]"
          },
          "metadata": {
            "needs_background": "light"
          }
        }
      ],
      "source": [
        "select.plot_mi()"
      ]
    },
    {
      "cell_type": "markdown",
      "metadata": {
        "id": "NbCXcBoCmTN_"
      },
      "source": [
        "Plotting the percentual variations of the mutual information between rounds:"
      ]
    },
    {
      "cell_type": "code",
      "execution_count": null,
      "metadata": {
        "colab": {
          "base_uri": "https://localhost:8080/",
          "height": 279
        },
        "id": "k145NZeOmTOA",
        "outputId": "dcb4496e-76ca-446f-b9a5-511251e1f64d"
      },
      "outputs": [
        {
          "output_type": "display_data",
          "data": {
            "text/plain": [
              "<Figure size 432x288 with 1 Axes>"
            ],
            "image/png": "[encoded data removed]"
          },
          "metadata": {
            "needs_background": "light"
          }
        }
      ],
      "source": [
        "select.plot_delta()\n"
      ]
    },
    {
      "cell_type": "markdown",
      "metadata": {
        "id": "E0X_P7NgmTOE"
      },
      "source": [
        "Making the selection choosing to stop at Round 5:"
      ]
    },
    {
      "cell_type": "code",
      "execution_count": null,
      "metadata": {
        "colab": {
          "base_uri": "https://localhost:8080/"
        },
        "id": "GgwHXp-PmTOF",
        "outputId": "726870d9-e43b-45be-a610-eb93eff9a2a3"
      },
      "outputs": [
        {
          "data": {
            "text/plain": [
              "(20000, 5)"
            ]
          },
          "execution_count": 20,
          "metadata": {},
          "output_type": "execute_result"
        }
      ],
      "source": [
        "X_new = select.transform(X, rd=5)\n",
        "\n",
        "X_new.shape"
      ]
    },
    {
      "cell_type": "markdown",
      "metadata": {
        "id": "JwdP1J8W2m8G"
      },
      "source": [
        "<a name=\"5\"></a>\n",
        "## 5\\. References\n",
        "\n",
        "[1] Eirola, E., Lendasse, A., & Karhunen, J. (2014, July). Variable selection for regression problems using Gaussian mixture models to estimate mutual information. In 2014 International Joint Conference on Neural Networks (IJCNN) (pp. 1606-1613). IEEE.\n",
        "\n",
        "[2] Lan, T., Erdogmus, D., Ozertem, U., & Huang, Y. (2006, July). Estimating mutual information using gaussian mixture model for feature ranking and selection. In The 2006 IEEE International Joint Conference on Neural Network Proceedings (pp. 5034-5039). IEEE.\n",
        "\n",
        "[3] Maia Polo, F., & Vicente, R. (2022). Effective sample size, dimensionality, and generalization in covariate shift adaptation. Neural Computing and Applications, 1-13.\n",
        "\n",
        "\n"
      ]
    },
    {
      "cell_type": "code",
      "execution_count": null,
      "metadata": {
        "id": "GvWp_Cmd20WX"
      },
      "outputs": [],
      "source": []
    }
  ],
  "metadata": {
    "colab": {
      "name": "InfoSelect.ipynb",
      "provenance": [],
      "include_colab_link": true
    },
    "kernelspec": {
      "display_name": "Python 3 (ipykernel)",
      "language": "python",
      "name": "python3"
    },
    "language_info": {
      "codemirror_mode": {
        "name": "ipython",
        "version": 3
      },
      "file_extension": ".py",
      "mimetype": "text/x-python",
      "name": "python",
      "nbconvert_exporter": "python",
      "pygments_lexer": "ipython3",
      "version": "3.7.13"
    }
  },
  "nbformat": 4,
  "nbformat_minor": 0
}