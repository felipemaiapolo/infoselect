{
  "nbformat": 4,
  "nbformat_minor": 0,
  "metadata": {
    "kernelspec": {
      "display_name": "Python 3",
      "language": "python",
      "name": "python3"
    },
    "language_info": {
      "codemirror_mode": {
        "name": "ipython",
        "version": 3
      },
      "file_extension": ".py",
      "mimetype": "text/x-python",
      "name": "python",
      "nbconvert_exporter": "python",
      "pygments_lexer": "ipython3",
      "version": "3.5.2"
    },
    "colab": {
      "name": "InfoSelect.ipynb",
      "provenance": [],
      "collapsed_sections": [],
      "include_colab_link": true
    }
  },
  "cells": [
    {
      "cell_type": "markdown",
      "metadata": {
        "id": "view-in-github",
        "colab_type": "text"
      },
      "source": [
        "<a href=\"https://colab.research.google.com/github/felipemaiapolo/infoselect/blob/master/InfoSelect.ipynb\" target=\"_parent\"><img src=\"https://colab.research.google.com/assets/colab-badge.svg\" alt=\"Open In Colab\"/></a>"
      ]
    },
    {
      "cell_type": "markdown",
      "metadata": {
        "id": "veqo_rjtmTKv"
      },
      "source": [
        "# ***InfoSelect*** - Mutual Information Based Feature Selection in Python\n",
        "\n",
        "\n",
        "\n",
        "\n",
        "### *Felipe Maia Polo (felipemaiapolo), Felipe Leno da Silva (f-leno)*\n"
      ]
    },
    {
      "cell_type": "markdown",
      "metadata": {
        "id": "08mvCZGw1pvk"
      },
      "source": [
        "## Contents\n",
        "1. [ Introduction ](#1)\n",
        "2. [ Installing *InfoSelect*  ](#2)\n",
        "3. [ Main functionalities of *InfoSelect* ](#3)\n",
        "4. [ Examples of *InfoSelect* use ](#4)\n",
        "5. [ References ](#5)\n",
        "\n",
        "--------------\n",
        "\n",
        "<a name=\"1\"></a>\n",
        "## 1\\. Introduction \n",
        "\n",
        "In this package we implement the ideas proposed by [1, 2] in order to make variable/feature selection prior to regression and classification tasks using Gaussian Mixture Models (GMMs) to estimate the Mutual Information between labels and features. This is an efficient and well-performing alternative and was used in a recent work [3] by one of us.\n",
        "\n",
        "If you use our package in your research, you can cite it as follows:\n",
        "\n",
        "    @article{maia2022effective,\n",
        "      title={Effective sample size, dimensionality, and generalization in covariate shift adaptation},\n",
        "      author={Maia Polo, Felipe and Vicente, Renato},\n",
        "      journal={Neural Computing and Applications},\n",
        "      pages={1--13},\n",
        "      year={2022},\n",
        "      publisher={Springer}\n",
        "    }\n",
        "\n",
        "\n",
        "    @misc{polo2020infoselect,\n",
        "      title={InfoSelect - Mutual Information Based Feature Selection in Python},\n",
        "      author={Polo, Felipe Maia and Da Silva, Felipe Leno},\n",
        "      journal={GitHub: github.com/felipemaiapolo/infoselect},\n",
        "      year={2020}\n",
        "    }\n",
        "\n",
        "\n",
        "--------------\n",
        "\n",
        "<a name=\"2\"></a>\n",
        "## 2\\. Installing *InfoSelect* \n",
        "\n",
        "You can install the package from\n",
        "[PyPI](https://pypi.org/project/infoselect/)"
      ]
    },
    {
      "cell_type": "code",
      "metadata": {
        "id": "MFT2CLZomTK1",
        "outputId": "876f4022-a7e9-492b-cbc0-1b50fee497d0",
        "colab": {
          "base_uri": "https://localhost:8080/"
        }
      },
      "source": [
        "!pip install infoselect"
      ],
      "execution_count": null,
      "outputs": [
        {
          "output_type": "stream",
          "text": [
            "Requirement already satisfied: infoselect in /usr/local/lib/python3.6/dist-packages (1.0.0)\n",
            "Requirement already satisfied: pandas in /usr/local/lib/python3.6/dist-packages (from infoselect) (1.1.4)\n",
            "Requirement already satisfied: matplotlib in /usr/local/lib/python3.6/dist-packages (from infoselect) (3.2.2)\n",
            "Requirement already satisfied: scipy in /usr/local/lib/python3.6/dist-packages (from infoselect) (1.4.1)\n",
            "Requirement already satisfied: numpy in /usr/local/lib/python3.6/dist-packages (from infoselect) (1.18.5)\n",
            "Requirement already satisfied: sklearn in /usr/local/lib/python3.6/dist-packages (from infoselect) (0.0)\n",
            "Requirement already satisfied: pytz>=2017.2 in /usr/local/lib/python3.6/dist-packages (from pandas->infoselect) (2018.9)\n",
            "Requirement already satisfied: python-dateutil>=2.7.3 in /usr/local/lib/python3.6/dist-packages (from pandas->infoselect) (2.8.1)\n",
            "Requirement already satisfied: cycler>=0.10 in /usr/local/lib/python3.6/dist-packages (from matplotlib->infoselect) (0.10.0)\n",
            "Requirement already satisfied: pyparsing!=2.0.4,!=2.1.2,!=2.1.6,>=2.0.1 in /usr/local/lib/python3.6/dist-packages (from matplotlib->infoselect) (2.4.7)\n",
            "Requirement already satisfied: kiwisolver>=1.0.1 in /usr/local/lib/python3.6/dist-packages (from matplotlib->infoselect) (1.3.1)\n",
            "Requirement already satisfied: scikit-learn in /usr/local/lib/python3.6/dist-packages (from sklearn->infoselect) (0.22.2.post1)\n",
            "Requirement already satisfied: six>=1.5 in /usr/local/lib/python3.6/dist-packages (from python-dateutil>=2.7.3->pandas->infoselect) (1.15.0)\n",
            "Requirement already satisfied: joblib>=0.11 in /usr/local/lib/python3.6/dist-packages (from scikit-learn->sklearn->infoselect) (0.17.0)\n"
          ],
          "name": "stdout"
        }
      ]
    },
    {
      "cell_type": "markdown",
      "metadata": {
        "id": "R0IgxOvs2VLp"
      },
      "source": [
        "<a name=\"3\"></a>\n",
        "## 3\\. Main functionalities of *InfoSelect* \n",
        "\n",
        "<a name=\"3.1\"></a>\n",
        "### 3.1\\. Main Class `SelectVars`\n",
        "\n",
        "This class is used to order features/variables according to their importance and making the selection itself. Next we detail its methods:\n",
        "\n",
        "1. `__init__(self, gmm, selection_mode = 'forward')`\n",
        "    - **gmm**: \n",
        "        - If <img src=\"https://render.githubusercontent.com/render/math?math=Y\"> is *non*-categorical: a [Scikit-Learn GMM](https://scikit-learn.org/stable/modules/generated/sklearn.mixture.GaussianMixture.html) fitted in (y,X) - y should always be in the first column;\n",
        "        - If <img src=\"https://render.githubusercontent.com/render/math?math=Y\"> is categorical: a Python dictionary containing one [Scikit-Learn GMM](https://scikit-learn.org/stable/modules/generated/sklearn.mixture.GaussianMixture.html) fitted in X conditional on each category - something like X[y==c,:]. Format `{0:gmm0, 1:gmm1, ..., C:gmmC}`;\n",
        "        - PS: the GMMs must be `covariance_type='full'` at the current *InfoSelect* version.\n",
        "    - **selection_mode**: `forward`/`backward` algorithms.\n",
        "        - `forward` selection: we start with an empty set of features and then select the feature that has the largest estimated mutual information with the target variable and. At each subsequent step, we select the feature that marginally maximizes the estimated mutual information of the target and all the chosen features so far. We stop when we have selected/ordered all the features;\n",
        "        - `backward` elimination: we start with the full set of features and then at each step, we eliminate the feature that marginally maximizes the estimated mutual information of the target and all the remaining features. We stop when we have no more features to eliminate;\n",
        "\n",
        "2. `fit(self, X, y, verbose=True, eps=0)`\n",
        "    - **X**: numpy array of features; \n",
        "    - **y**: numpy array of labels;\n",
        "    - **verbose**: print or not to print!?\n",
        "    - **eps**: small value so we can avoid taking log of zero in some cases .\n",
        "\n",
        "3. `get_info(self)`: \n",
        "    - This function creates and outputs a Pandas DataFrame with the history of feature selection/elimination. The `mi_mean` column gives the estimated Mutual Information while `mi_error` gives the standard error of that estimate. On the other hand, the `delta` column gives us the percentual information loss/gain in that round, relatively to the latter;\n",
        "    \n",
        "4. `plot_delta(self)`: \n",
        "    - This function plots the history of percentual changes in the mutual information.\n",
        "    \n",
        "5. `plot_mi(self)`: \n",
        "    - This function plots the history of the mutual information.\n",
        "    \n",
        "6. `transform(self, X, rd)`: \n",
        "    - This function takes **X** and transforms it in **X_new**, maintaining the features of Round `rd`; \n",
        " \n",
        "<a name=\"3.2\"></a>\n",
        "### 3.2\\. Auxiliary Function `get_gmm`\n",
        "\n",
        "1. `get_gmm(X, y, y_cat=False, num_comps=[2,5,10,15,20], val_size=0.33, reg_covar=1e-06, random_state=42)`: \n",
        "\n",
        "    - Firstly, this function validate the number of GMM components, for each model it will train, in a holdout set using the mean log likelihood of samples in that set. If Y is non-categorical, it returns a [Scikit-Learn GMM](https://scikit-learn.org/stable/modules/generated/sklearn.mixture.GaussianMixture.html) fitted in (y,X) model (in this order). On the other hand, if Y is categorical it returns a Python dictionary containing one [Scikit-Learn GMM](https://scikit-learn.org/stable/modules/generated/sklearn.mixture.GaussianMixture.html) fitted in X conditional on each category - something like X[y==c,:]. Format `{0:gmm0, 1:gmm1, ..., C:gmmC}`.\n",
        "\n",
        "        - **X**: numpy array of features; \n",
        "        - **y**: numpy array of labels;\n",
        "        - **y_cat**: if we should consider Y as categorical;\n",
        "        - **num_comps**: numbers of GMM components to be validated;\n",
        "        - **val_size**: size of holdout set used to validate the GMMs numbers of components;\n",
        "        - **reg_covar**: non-negative regularization added to the diagonal of covariance. Ensures the covariance matrices are non-singular.\n",
        "        - **random_state**: seed.\n",
        "\n",
        "--------------------\n",
        "\n",
        "<a name=\"4\"></a>\n",
        "## 4\\. Examples of *InfoSelect* use\n",
        "\n",
        "Loading Packages:"
      ]
    },
    {
      "cell_type": "code",
      "metadata": {
        "id": "EdhDRC3SmTLS"
      },
      "source": [
        "import infoselect as inf\n",
        "import numpy as np  \n",
        "import pandas as pd\n",
        "import matplotlib.pyplot as plt"
      ],
      "execution_count": null,
      "outputs": []
    },
    {
      "cell_type": "markdown",
      "metadata": {
        "id": "YdeqfsuymTLX"
      },
      "source": [
        "### 1.1\\. Dataset\n",
        "\n",
        "We generate a dataset $D$ sampled from $\\mathcal{D}=\\{(X_{0,i},...,X_{6,i},Y_i)\\}_{i=1}^{n}$ similar to the one in [here](https://www.cs.toronto.edu/~delve/data/add10/desc.html), in which $Y_i$ is given by\n",
        "\n",
        "<br>\n",
        "\\begin{align}\n",
        "Y_i &= f(X_{0,i},...,X_{6,i}) + \\epsilon_i \\\\[.5em]\n",
        "&=10\\cdot \\sin(\\pi X_{0,i}  X_{1,i}) + 20 (X_{2,i}-0.5)^2 + 10 X_{3,i} + 5 X_{4,i} + \\epsilon_i\n",
        "\\end{align}\n",
        "<br>\n",
        "\n",
        "Where $X_{0,i},...,X_{6,i} \\overset{iid}{\\sim} U[0,1]$ and $\\epsilon_i \\sim N(0,1)$ independent from all the other random variables for all $i\\in [n]$. In the following we set $n=20000$:"
      ]
    },
    {
      "cell_type": "code",
      "metadata": {
        "id": "8Y4_HMDDmTLZ"
      },
      "source": [
        "def f(X,e): return 10*np.sin(np.pi*X[:,0]*X[:,1]) + 20*(X[:,2]-.5)**2 + 10*X[:,3] + 5*X[:,4] + e"
      ],
      "execution_count": null,
      "outputs": []
    },
    {
      "cell_type": "code",
      "metadata": {
        "id": "isQqEnhDmTLl",
        "outputId": "cd966641-eadb-40cc-ec64-67cb54ae8f31",
        "colab": {
          "base_uri": "https://localhost:8080/"
        }
      },
      "source": [
        "n=20000\n",
        "d=7\n",
        "\n",
        "X = np.random.uniform(0,1,d*n).reshape((n,d))\n",
        "e = np.random.normal(0,1,n)\n",
        "y = f(X,e)\n",
        "\n",
        "X.shape, y.shape"
      ],
      "execution_count": null,
      "outputs": [
        {
          "output_type": "execute_result",
          "data": {
            "text/plain": [
              "((20000, 7), (20000,))"
            ]
          },
          "metadata": {
            "tags": []
          },
          "execution_count": 4
        }
      ]
    },
    {
      "cell_type": "markdown",
      "metadata": {
        "id": "Sgl9V_enmTL2"
      },
      "source": [
        "### 1.2\\. Selecting Features for a Regression Task"
      ]
    },
    {
      "cell_type": "markdown",
      "metadata": {
        "id": "J-KknWzDmTL4"
      },
      "source": [
        "Training (and validating) GMM:"
      ]
    },
    {
      "cell_type": "code",
      "metadata": {
        "id": "KKg_aU1hmTL8",
        "outputId": "e0071c65-ee69-4627-b4f1-519111c87d5c",
        "colab": {
          "base_uri": "https://localhost:8080/"
        }
      },
      "source": [
        "%%time\n",
        "\n",
        "gmm = inf.get_gmm(X, y)"
      ],
      "execution_count": null,
      "outputs": [
        {
          "output_type": "stream",
          "text": [
            "CPU times: user 27.5 s, sys: 18.2 s, total: 45.7 s\n",
            "Wall time: 23.4 s\n"
          ],
          "name": "stdout"
        }
      ]
    },
    {
      "cell_type": "code",
      "metadata": {
        "id": "FPtgps_emTMF",
        "outputId": "7854aeca-190e-45cb-8665-8572f38ac2ac",
        "colab": {
          "base_uri": "https://localhost:8080/"
        }
      },
      "source": [
        "gmm"
      ],
      "execution_count": null,
      "outputs": [
        {
          "output_type": "execute_result",
          "data": {
            "text/plain": [
              "GaussianMixture(covariance_type='full', init_params='kmeans', max_iter=100,\n",
              "                means_init=None, n_components=20, n_init=1,\n",
              "                precisions_init=None, random_state=42, reg_covar=1e-06,\n",
              "                tol=0.001, verbose=0, verbose_interval=10, warm_start=False,\n",
              "                weights_init=None)"
            ]
          },
          "metadata": {
            "tags": []
          },
          "execution_count": 6
        }
      ]
    },
    {
      "cell_type": "markdown",
      "metadata": {
        "id": "K0gL-DJ-mTMO"
      },
      "source": [
        "Ordering features by their importances using the *Backward Elimination* algorithm:"
      ]
    },
    {
      "cell_type": "code",
      "metadata": {
        "id": "F7Gy-vgWmTMR",
        "outputId": "a4d2f504-ebf5-4b47-c647-5b61f6cdd09c",
        "colab": {
          "base_uri": "https://localhost:8080/"
        }
      },
      "source": [
        "select = inf.SelectVars(gmm, selection_mode = 'backward')\n",
        "select.fit(X, y, verbose=True)    "
      ],
      "execution_count": null,
      "outputs": [
        {
          "output_type": "stream",
          "text": [
            "Let's start...\n",
            "\n",
            "Round =   0   |   Î =  1.48   |   Δ%Î =  0.00   |   Features=[0, 1, 2, 3, 4, 5, 6]\n",
            "Round =   1   |   Î =  1.48   |   Δ%Î = -0.00   |   Features=[0, 1, 2, 3, 4, 5]\n",
            "Round =   2   |   Î =  1.48   |   Δ%Î = -0.00   |   Features=[0, 1, 2, 3, 4]\n",
            "Round =   3   |   Î =  1.00   |   Δ%Î = -0.32   |   Features=[0, 1, 3, 4]\n",
            "Round =   4   |   Î =  0.75   |   Δ%Î = -0.25   |   Features=[0, 1, 3]\n",
            "Round =   5   |   Î =  0.39   |   Δ%Î = -0.48   |   Features=[1, 3]\n",
            "Round =   6   |   Î =  0.21   |   Δ%Î = -0.46   |   Features=[3]\n"
          ],
          "name": "stdout"
        }
      ]
    },
    {
      "cell_type": "markdown",
      "metadata": {
        "id": "px7utZtNmTMW"
      },
      "source": [
        "Checking history:"
      ]
    },
    {
      "cell_type": "code",
      "metadata": {
        "id": "UgTyazIDmTMX",
        "outputId": "1ad808f5-36bd-4142-d114-af353fd90a9c",
        "colab": {
          "base_uri": "https://localhost:8080/",
          "height": 258
        }
      },
      "source": [
        "select.get_info()"
      ],
      "execution_count": null,
      "outputs": [
        {
          "output_type": "execute_result",
          "data": {
            "text/html": [
              "<div>\n",
              "<style scoped>\n",
              "    .dataframe tbody tr th:only-of-type {\n",
              "        vertical-align: middle;\n",
              "    }\n",
              "\n",
              "    .dataframe tbody tr th {\n",
              "        vertical-align: top;\n",
              "    }\n",
              "\n",
              "    .dataframe thead th {\n",
              "        text-align: right;\n",
              "    }\n",
              "</style>\n",
              "<table border=\"1\" class=\"dataframe\">\n",
              "  <thead>\n",
              "    <tr style=\"text-align: right;\">\n",
              "      <th></th>\n",
              "      <th>rounds</th>\n",
              "      <th>mi_mean</th>\n",
              "      <th>mi_error</th>\n",
              "      <th>delta</th>\n",
              "      <th>num_feat</th>\n",
              "      <th>features</th>\n",
              "    </tr>\n",
              "  </thead>\n",
              "  <tbody>\n",
              "    <tr>\n",
              "      <th>0</th>\n",
              "      <td>0</td>\n",
              "      <td>1.483969</td>\n",
              "      <td>0.006147</td>\n",
              "      <td>0.000000</td>\n",
              "      <td>7</td>\n",
              "      <td>[0, 1, 2, 3, 4, 5, 6]</td>\n",
              "    </tr>\n",
              "    <tr>\n",
              "      <th>1</th>\n",
              "      <td>1</td>\n",
              "      <td>1.483101</td>\n",
              "      <td>0.006139</td>\n",
              "      <td>-0.000585</td>\n",
              "      <td>6</td>\n",
              "      <td>[0, 1, 2, 3, 4, 5]</td>\n",
              "    </tr>\n",
              "    <tr>\n",
              "      <th>2</th>\n",
              "      <td>2</td>\n",
              "      <td>1.481667</td>\n",
              "      <td>0.006135</td>\n",
              "      <td>-0.000967</td>\n",
              "      <td>5</td>\n",
              "      <td>[0, 1, 2, 3, 4]</td>\n",
              "    </tr>\n",
              "    <tr>\n",
              "      <th>3</th>\n",
              "      <td>3</td>\n",
              "      <td>1.001292</td>\n",
              "      <td>0.005613</td>\n",
              "      <td>-0.324212</td>\n",
              "      <td>4</td>\n",
              "      <td>[0, 1, 3, 4]</td>\n",
              "    </tr>\n",
              "    <tr>\n",
              "      <th>4</th>\n",
              "      <td>4</td>\n",
              "      <td>0.751952</td>\n",
              "      <td>0.005343</td>\n",
              "      <td>-0.249018</td>\n",
              "      <td>3</td>\n",
              "      <td>[0, 1, 3]</td>\n",
              "    </tr>\n",
              "    <tr>\n",
              "      <th>5</th>\n",
              "      <td>5</td>\n",
              "      <td>0.390138</td>\n",
              "      <td>0.005015</td>\n",
              "      <td>-0.481166</td>\n",
              "      <td>2</td>\n",
              "      <td>[1, 3]</td>\n",
              "    </tr>\n",
              "    <tr>\n",
              "      <th>6</th>\n",
              "      <td>6</td>\n",
              "      <td>0.212257</td>\n",
              "      <td>0.003765</td>\n",
              "      <td>-0.455946</td>\n",
              "      <td>1</td>\n",
              "      <td>[3]</td>\n",
              "    </tr>\n",
              "  </tbody>\n",
              "</table>\n",
              "</div>"
            ],
            "text/plain": [
              "   rounds   mi_mean  mi_error     delta  num_feat               features\n",
              "0       0  1.483969  0.006147  0.000000         7  [0, 1, 2, 3, 4, 5, 6]\n",
              "1       1  1.483101  0.006139 -0.000585         6     [0, 1, 2, 3, 4, 5]\n",
              "2       2  1.481667  0.006135 -0.000967         5        [0, 1, 2, 3, 4]\n",
              "3       3  1.001292  0.005613 -0.324212         4           [0, 1, 3, 4]\n",
              "4       4  0.751952  0.005343 -0.249018         3              [0, 1, 3]\n",
              "5       5  0.390138  0.005015 -0.481166         2                 [1, 3]\n",
              "6       6  0.212257  0.003765 -0.455946         1                    [3]"
            ]
          },
          "metadata": {
            "tags": []
          },
          "execution_count": 8
        }
      ]
    },
    {
      "cell_type": "markdown",
      "metadata": {
        "id": "CtsYNrEsmTMc"
      },
      "source": [
        "It is possible to see that the estimated mutual information is untouched until Round 2, when it varies around -$30\\%$.\n",
        "\n",
        "Since there is a 'break' in Round 2, we should choose to stop the algorithm at theta round. This will be clear in the Mutual Information history plot that follows:"
      ]
    },
    {
      "cell_type": "code",
      "metadata": {
        "id": "5G8kBvEvmTMd",
        "outputId": "f9ed0da4-762e-48dd-d9ce-3f94e8db2c81",
        "colab": {
          "base_uri": "https://localhost:8080/",
          "height": 279
        }
      },
      "source": [
        "select.plot_mi()"
      ],
      "execution_count": null,
      "outputs": [
        {
          "output_type": "display_data",
          "data": {
            "image/png": "[encoded data removed]",
            "text/plain": [
              "<Figure size 432x288 with 1 Axes>"
            ]
          },
          "metadata": {
            "tags": [],
            "needs_background": "light"
          }
        }
      ]
    },
    {
      "cell_type": "markdown",
      "metadata": {
        "id": "uYZoCp1vmTMh"
      },
      "source": [
        "Plotting the percentual variations of the mutual information between rounds:"
      ]
    },
    {
      "cell_type": "code",
      "metadata": {
        "id": "BBV2ciMkmTMh",
        "outputId": "d8ee110e-0245-42e1-ebb6-5a14f21b4b5d",
        "colab": {
          "base_uri": "https://localhost:8080/",
          "height": 279
        }
      },
      "source": [
        "select.plot_delta()"
      ],
      "execution_count": null,
      "outputs": [
        {
          "output_type": "display_data",
          "data": {
            "image/png": "[encoded data removed]",
            "text/plain": [
              "<Figure size 432x288 with 1 Axes>"
            ]
          },
          "metadata": {
            "tags": [],
            "needs_background": "light"
          }
        }
      ]
    },
    {
      "cell_type": "markdown",
      "metadata": {
        "id": "5QAhk35EmTMo"
      },
      "source": [
        "Making the selection choosing to stop at Round 2:"
      ]
    },
    {
      "cell_type": "code",
      "metadata": {
        "id": "u6qtvG8vmTMp",
        "outputId": "04946e63-1d8b-4a6b-c233-bb85e9cb54a2",
        "colab": {
          "base_uri": "https://localhost:8080/"
        }
      },
      "source": [
        "X_new = select.transform(X, rd=2)\n",
        "\n",
        "X_new.shape"
      ],
      "execution_count": null,
      "outputs": [
        {
          "output_type": "execute_result",
          "data": {
            "text/plain": [
              "(20000, 5)"
            ]
          },
          "metadata": {
            "tags": []
          },
          "execution_count": 11
        }
      ]
    },
    {
      "cell_type": "markdown",
      "metadata": {
        "id": "OzXhfro9mTMx"
      },
      "source": [
        "### 1.3\\. Selecting Features for a Classification Task"
      ]
    },
    {
      "cell_type": "markdown",
      "metadata": {
        "id": "Upuhc2UqmTMy"
      },
      "source": [
        "Categorizing $Y$:"
      ]
    },
    {
      "cell_type": "code",
      "metadata": {
        "id": "wDOrI5yRmTMz"
      },
      "source": [
        "ind0 = (y<np.percentile(y, 33))\n",
        "ind1 = (np.percentile(y, 33)<=y) & (y<np.percentile(y, 66))\n",
        "ind2 = (np.percentile(y, 66)<=y)\n",
        "\n",
        "y[ind0] = 0\n",
        "y[ind1] = 1\n",
        "y[ind2] = 2\n",
        "\n",
        "y=y.astype(int)"
      ],
      "execution_count": null,
      "outputs": []
    },
    {
      "cell_type": "code",
      "metadata": {
        "id": "Q4KwwGacmTNB",
        "outputId": "d3499375-db49-44da-ed1a-7d3b169c2e9b",
        "colab": {
          "base_uri": "https://localhost:8080/"
        }
      },
      "source": [
        "y[:15]"
      ],
      "execution_count": null,
      "outputs": [
        {
          "output_type": "execute_result",
          "data": {
            "text/plain": [
              "array([2, 2, 2, 1, 0, 1, 2, 0, 0, 2, 0, 0, 1, 1, 1])"
            ]
          },
          "metadata": {
            "tags": []
          },
          "execution_count": 13
        }
      ]
    },
    {
      "cell_type": "markdown",
      "metadata": {
        "id": "lS_CeqJWmTNR"
      },
      "source": [
        "Training (and validating) GMMs:"
      ]
    },
    {
      "cell_type": "code",
      "metadata": {
        "id": "-jEKEp9MmTNW",
        "outputId": "3bc19d4a-7979-41dd-83e3-2d3c58b8775e",
        "colab": {
          "base_uri": "https://localhost:8080/"
        }
      },
      "source": [
        "%%time \n",
        "\n",
        "gmm=inf.get_gmm(X, y, y_cat=True)"
      ],
      "execution_count": null,
      "outputs": [
        {
          "output_type": "stream",
          "text": [
            "CPU times: user 17.4 s, sys: 8.57 s, total: 26 s\n",
            "Wall time: 15.9 s\n"
          ],
          "name": "stdout"
        }
      ]
    },
    {
      "cell_type": "code",
      "metadata": {
        "id": "xOH-T6GN3Cfl",
        "outputId": "72ee63e2-ff33-4048-b422-7b529bff0978",
        "colab": {
          "base_uri": "https://localhost:8080/"
        }
      },
      "source": [
        "gmm"
      ],
      "execution_count": null,
      "outputs": [
        {
          "output_type": "execute_result",
          "data": {
            "text/plain": [
              "{0: GaussianMixture(covariance_type='full', init_params='kmeans', max_iter=100,\n",
              "                 means_init=None, n_components=20, n_init=1,\n",
              "                 precisions_init=None, random_state=42, reg_covar=1e-06,\n",
              "                 tol=0.001, verbose=0, verbose_interval=10, warm_start=False,\n",
              "                 weights_init=None),\n",
              " 1: GaussianMixture(covariance_type='full', init_params='kmeans', max_iter=100,\n",
              "                 means_init=None, n_components=20, n_init=1,\n",
              "                 precisions_init=None, random_state=42, reg_covar=1e-06,\n",
              "                 tol=0.001, verbose=0, verbose_interval=10, warm_start=False,\n",
              "                 weights_init=None),\n",
              " 2: GaussianMixture(covariance_type='full', init_params='kmeans', max_iter=100,\n",
              "                 means_init=None, n_components=20, n_init=1,\n",
              "                 precisions_init=None, random_state=42, reg_covar=1e-06,\n",
              "                 tol=0.001, verbose=0, verbose_interval=10, warm_start=False,\n",
              "                 weights_init=None)}"
            ]
          },
          "metadata": {
            "tags": []
          },
          "execution_count": 20
        }
      ]
    },
    {
      "cell_type": "markdown",
      "metadata": {
        "id": "IOTbJgRUmTNn"
      },
      "source": [
        "Ordering features by their importances using the *Forward Selection* algorithm:"
      ]
    },
    {
      "cell_type": "code",
      "metadata": {
        "id": "jKejnlHKmTNp",
        "outputId": "8e0937a8-ef17-4613-c3b6-a1da71aa4b42",
        "colab": {
          "base_uri": "https://localhost:8080/"
        }
      },
      "source": [
        "select=inf.SelectVars(gmm, selection_mode='forward')\n",
        "select.fit(X, y, verbose=True)    "
      ],
      "execution_count": null,
      "outputs": [
        {
          "output_type": "stream",
          "text": [
            "Let's start...\n",
            "\n",
            "Round =   0   |   Î =  0.00   |   Δ%Î =  0.00   |   Features=[]\n",
            "Round =   1   |   Î =  0.14   |   Δ%Î =  0.00   |   Features=[3]\n",
            "Round =   2   |   Î =  0.28   |   Δ%Î =  0.94   |   Features=[3, 1]\n",
            "Round =   3   |   Î =  0.52   |   Δ%Î =  0.87   |   Features=[3, 1, 0]\n",
            "Round =   4   |   Î =  0.64   |   Δ%Î =  0.21   |   Features=[3, 1, 0, 4]\n",
            "Round =   5   |   Î =  0.80   |   Δ%Î =  0.25   |   Features=[3, 1, 0, 4, 2]\n",
            "Round =   6   |   Î =  0.79   |   Δ%Î = -0.00   |   Features=[3, 1, 0, 4, 2, 6]\n",
            "Round =   7   |   Î =  0.79   |   Δ%Î = -0.00   |   Features=[3, 1, 0, 4, 2, 6, 5]\n"
          ],
          "name": "stdout"
        }
      ]
    },
    {
      "cell_type": "markdown",
      "metadata": {
        "id": "ItemarzLmTN0"
      },
      "source": [
        "Checking history:"
      ]
    },
    {
      "cell_type": "code",
      "metadata": {
        "id": "qtuDjVbemTN0",
        "outputId": "dcb58f0f-9081-4e45-a343-b472ba7d058a",
        "colab": {
          "base_uri": "https://localhost:8080/",
          "height": 288
        }
      },
      "source": [
        "select.get_info()"
      ],
      "execution_count": null,
      "outputs": [
        {
          "output_type": "execute_result",
          "data": {
            "text/html": [
              "<div>\n",
              "<style scoped>\n",
              "    .dataframe tbody tr th:only-of-type {\n",
              "        vertical-align: middle;\n",
              "    }\n",
              "\n",
              "    .dataframe tbody tr th {\n",
              "        vertical-align: top;\n",
              "    }\n",
              "\n",
              "    .dataframe thead th {\n",
              "        text-align: right;\n",
              "    }\n",
              "</style>\n",
              "<table border=\"1\" class=\"dataframe\">\n",
              "  <thead>\n",
              "    <tr style=\"text-align: right;\">\n",
              "      <th></th>\n",
              "      <th>rounds</th>\n",
              "      <th>mi_mean</th>\n",
              "      <th>mi_error</th>\n",
              "      <th>delta</th>\n",
              "      <th>num_feat</th>\n",
              "      <th>features</th>\n",
              "    </tr>\n",
              "  </thead>\n",
              "  <tbody>\n",
              "    <tr>\n",
              "      <th>0</th>\n",
              "      <td>0</td>\n",
              "      <td>0.000000</td>\n",
              "      <td>0.000000</td>\n",
              "      <td>0.000000</td>\n",
              "      <td>0</td>\n",
              "      <td>[]</td>\n",
              "    </tr>\n",
              "    <tr>\n",
              "      <th>1</th>\n",
              "      <td>1</td>\n",
              "      <td>0.144904</td>\n",
              "      <td>0.003717</td>\n",
              "      <td>0.000000</td>\n",
              "      <td>1</td>\n",
              "      <td>[3]</td>\n",
              "    </tr>\n",
              "    <tr>\n",
              "      <th>2</th>\n",
              "      <td>2</td>\n",
              "      <td>0.280840</td>\n",
              "      <td>0.004493</td>\n",
              "      <td>0.938110</td>\n",
              "      <td>2</td>\n",
              "      <td>[3, 1]</td>\n",
              "    </tr>\n",
              "    <tr>\n",
              "      <th>3</th>\n",
              "      <td>3</td>\n",
              "      <td>0.524522</td>\n",
              "      <td>0.004559</td>\n",
              "      <td>0.867691</td>\n",
              "      <td>3</td>\n",
              "      <td>[3, 1, 0]</td>\n",
              "    </tr>\n",
              "    <tr>\n",
              "      <th>4</th>\n",
              "      <td>4</td>\n",
              "      <td>0.636269</td>\n",
              "      <td>0.004315</td>\n",
              "      <td>0.213045</td>\n",
              "      <td>4</td>\n",
              "      <td>[3, 1, 0, 4]</td>\n",
              "    </tr>\n",
              "    <tr>\n",
              "      <th>5</th>\n",
              "      <td>5</td>\n",
              "      <td>0.795123</td>\n",
              "      <td>0.003400</td>\n",
              "      <td>0.249667</td>\n",
              "      <td>5</td>\n",
              "      <td>[3, 1, 0, 4, 2]</td>\n",
              "    </tr>\n",
              "    <tr>\n",
              "      <th>6</th>\n",
              "      <td>6</td>\n",
              "      <td>0.792673</td>\n",
              "      <td>0.003550</td>\n",
              "      <td>-0.003082</td>\n",
              "      <td>6</td>\n",
              "      <td>[3, 1, 0, 4, 2, 6]</td>\n",
              "    </tr>\n",
              "    <tr>\n",
              "      <th>7</th>\n",
              "      <td>7</td>\n",
              "      <td>0.791315</td>\n",
              "      <td>0.003708</td>\n",
              "      <td>-0.001712</td>\n",
              "      <td>7</td>\n",
              "      <td>[3, 1, 0, 4, 2, 6, 5]</td>\n",
              "    </tr>\n",
              "  </tbody>\n",
              "</table>\n",
              "</div>"
            ],
            "text/plain": [
              "   rounds   mi_mean  mi_error     delta  num_feat               features\n",
              "0       0  0.000000  0.000000  0.000000         0                     []\n",
              "1       1  0.144904  0.003717  0.000000         1                    [3]\n",
              "2       2  0.280840  0.004493  0.938110         2                 [3, 1]\n",
              "3       3  0.524522  0.004559  0.867691         3              [3, 1, 0]\n",
              "4       4  0.636269  0.004315  0.213045         4           [3, 1, 0, 4]\n",
              "5       5  0.795123  0.003400  0.249667         5        [3, 1, 0, 4, 2]\n",
              "6       6  0.792673  0.003550 -0.003082         6     [3, 1, 0, 4, 2, 6]\n",
              "7       7  0.791315  0.003708 -0.001712         7  [3, 1, 0, 4, 2, 6, 5]"
            ]
          },
          "metadata": {
            "tags": []
          },
          "execution_count": 16
        }
      ]
    },
    {
      "cell_type": "markdown",
      "metadata": {
        "id": "wFTKMAtJmTN4"
      },
      "source": [
        "It is possible to see that the estimated mutual information is untouched from Round 6 onwards.\n",
        "\n",
        "Since there is a 'break' in Round 5, we should choose to stop the algorithm at theta round. This will be clear in the Mutual Information history plot that follows:"
      ]
    },
    {
      "cell_type": "code",
      "metadata": {
        "id": "SX0Le6YMmTN6",
        "outputId": "54053b01-dcd5-46ce-c1b6-4357536aa11b",
        "colab": {
          "base_uri": "https://localhost:8080/",
          "height": 279
        }
      },
      "source": [
        "select.plot_mi()"
      ],
      "execution_count": null,
      "outputs": [
        {
          "output_type": "display_data",
          "data": {
            "image/png": "[encoded data removed]",
            "text/plain": [
              "<Figure size 432x288 with 1 Axes>"
            ]
          },
          "metadata": {
            "tags": [],
            "needs_background": "light"
          }
        }
      ]
    },
    {
      "cell_type": "markdown",
      "metadata": {
        "id": "NbCXcBoCmTN_"
      },
      "source": [
        "Plotting the percentual variations of the mutual information between rounds:"
      ]
    },
    {
      "cell_type": "code",
      "metadata": {
        "id": "k145NZeOmTOA",
        "outputId": "07354713-4f34-4c28-ac69-084d2fe2d1ff",
        "colab": {
          "base_uri": "https://localhost:8080/",
          "height": 279
        }
      },
      "source": [
        "select.plot_delta()\n"
      ],
      "execution_count": null,
      "outputs": [
        {
          "output_type": "display_data",
          "data": {
            "image/png": "[encoded data removed]",
            "text/plain": [
              "<Figure size 432x288 with 1 Axes>"
            ]
          },
          "metadata": {
            "tags": [],
            "needs_background": "light"
          }
        }
      ]
    },
    {
      "cell_type": "markdown",
      "metadata": {
        "id": "E0X_P7NgmTOE"
      },
      "source": [
        "Making the selection choosing to stop at Round 5:"
      ]
    },
    {
      "cell_type": "code",
      "metadata": {
        "id": "GgwHXp-PmTOF",
        "outputId": "b1482802-a4a5-4b77-d09f-2b419bb35c45",
        "colab": {
          "base_uri": "https://localhost:8080/"
        }
      },
      "source": [
        "X_new = select.transform(X, rd=5)\n",
        "\n",
        "X_new.shape"
      ],
      "execution_count": null,
      "outputs": [
        {
          "output_type": "execute_result",
          "data": {
            "text/plain": [
              "(20000, 5)"
            ]
          },
          "metadata": {
            "tags": []
          },
          "execution_count": 19
        }
      ]
    },
    {
      "cell_type": "markdown",
      "metadata": {
        "id": "JwdP1J8W2m8G"
      },
      "source": [
        "<a name=\"5\"></a>\n",
        "## 5\\. References\n",
        "\n",
        "[1] Eirola, E., Lendasse, A., & Karhunen, J. (2014, July). Variable selection for regression problems using Gaussian mixture models to estimate mutual information. In 2014 International Joint Conference on Neural Networks (IJCNN) (pp. 1606-1613). IEEE.\n",
        "\n",
        "[2] Lan, T., Erdogmus, D., Ozertem, U., & Huang, Y. (2006, July). Estimating mutual information using gaussian mixture model for feature ranking and selection. In The 2006 IEEE International Joint Conference on Neural Network Proceedings (pp. 5034-5039). IEEE.\n",
        "\n",
        "[3] Maia Polo, F., & Vicente, R. (2022). Effective sample size, dimensionality, and generalization in covariate shift adaptation. Neural Computing and Applications, 1-13.\n",
        "\n",
        "\n"
      ]
    },
    {
      "cell_type": "code",
      "source": [
        ""
      ],
      "metadata": {
        "id": "GvWp_Cmd20WX"
      },
      "execution_count": null,
      "outputs": []
    }
  ]
}